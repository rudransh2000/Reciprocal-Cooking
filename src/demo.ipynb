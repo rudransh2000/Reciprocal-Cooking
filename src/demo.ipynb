{
  "nbformat": 4,
  "nbformat_minor": 0,
  "metadata": {
    "kernelspec": {
      "display_name": "Python 3",
      "language": "python",
      "name": "python3"
    },
    "language_info": {
      "codemirror_mode": {
        "name": "ipython",
        "version": 3
      },
      "file_extension": ".py",
      "mimetype": "text/x-python",
      "name": "python",
      "nbconvert_exporter": "python",
      "pygments_lexer": "ipython3",
      "version": "3.6.5"
    },
    "colab": {
      "name": "Reciprocal cooking.ipynb",
      "provenance": [],
      "collapsed_sections": []
    },
    "accelerator": "GPU"
  },
  "cells": [
    {
      "cell_type": "markdown",
      "metadata": {
        "id": "UAKRAmzePiC9"
      },
      "source": [
        "## Reciprocal Cooking: Recipe Generation from Food Images"
      ]
    },
    {
      "cell_type": "code",
      "metadata": {
        "colab": {
          "base_uri": "https://localhost:8080/"
        },
        "id": "EjAtdeCQQZFA",
        "outputId": "98b66c6a-ec36-4b62-b8c3-81f9926617e2"
      },
      "source": [
        "%ls"
      ],
      "execution_count": 44,
      "outputs": [
        {
          "output_type": "stream",
          "name": "stdout",
          "text": [
            "args.py         data_loader.py  model.py  \u001b[0m\u001b[01;34m__pycache__\u001b[0m/  train.py\n",
            "build_vocab.py  demo.ipynb      \u001b[01;34mmodules\u001b[0m/  sample.py     \u001b[01;34mutils\u001b[0m/\n"
          ]
        }
      ]
    },
    {
      "cell_type": "code",
      "metadata": {
        "colab": {
          "base_uri": "https://localhost:8080/"
        },
        "id": "6HF9lhn152DH",
        "outputId": "f9ca8150-2a41-46c9-e2a5-a92eb6e409bd"
      },
      "source": [
        "%cd drive/"
      ],
      "execution_count": 45,
      "outputs": [
        {
          "output_type": "stream",
          "name": "stdout",
          "text": [
            "[Errno 2] No such file or directory: 'drive/'\n",
            "/content/drive/MyDrive/inversecooking-master/src\n"
          ]
        }
      ]
    },
    {
      "cell_type": "code",
      "metadata": {
        "colab": {
          "base_uri": "https://localhost:8080/"
        },
        "id": "J7MAerDP6DrI",
        "outputId": "c1ef645a-6e5f-48a8-d2fe-a64c7ba48aac"
      },
      "source": [
        "%ls"
      ],
      "execution_count": 46,
      "outputs": [
        {
          "output_type": "stream",
          "name": "stdout",
          "text": [
            "args.py         data_loader.py  model.py  \u001b[0m\u001b[01;34m__pycache__\u001b[0m/  train.py\n",
            "build_vocab.py  demo.ipynb      \u001b[01;34mmodules\u001b[0m/  sample.py     \u001b[01;34mutils\u001b[0m/\n"
          ]
        }
      ]
    },
    {
      "cell_type": "code",
      "metadata": {
        "colab": {
          "base_uri": "https://localhost:8080/"
        },
        "id": "uSlzKtGL6HYZ",
        "outputId": "22389405-f823-4b68-852e-fe820827e701"
      },
      "source": [
        "cd MyDrive/"
      ],
      "execution_count": 47,
      "outputs": [
        {
          "output_type": "stream",
          "name": "stdout",
          "text": [
            "[Errno 2] No such file or directory: 'MyDrive/'\n",
            "/content/drive/MyDrive/inversecooking-master/src\n"
          ]
        }
      ]
    },
    {
      "cell_type": "code",
      "metadata": {
        "colab": {
          "base_uri": "https://localhost:8080/"
        },
        "id": "AXorqIFa6OuV",
        "outputId": "9e4a2f06-20d0-40ab-93b3-b7567a35fd07"
      },
      "source": [
        "ls"
      ],
      "execution_count": 48,
      "outputs": [
        {
          "output_type": "stream",
          "name": "stdout",
          "text": [
            "args.py         data_loader.py  model.py  \u001b[0m\u001b[01;34m__pycache__\u001b[0m/  train.py\n",
            "build_vocab.py  demo.ipynb      \u001b[01;34mmodules\u001b[0m/  sample.py     \u001b[01;34mutils\u001b[0m/\n"
          ]
        }
      ]
    },
    {
      "cell_type": "code",
      "metadata": {
        "colab": {
          "base_uri": "https://localhost:8080/"
        },
        "id": "5MEU0nmWQb4Z",
        "outputId": "7aac84a1-05c2-4980-ae75-3ecb3eaf2a9b"
      },
      "source": [
        "%cd inversecooking-master/"
      ],
      "execution_count": 49,
      "outputs": [
        {
          "output_type": "stream",
          "name": "stdout",
          "text": [
            "[Errno 2] No such file or directory: 'inversecooking-master/'\n",
            "/content/drive/MyDrive/inversecooking-master/src\n"
          ]
        }
      ]
    },
    {
      "cell_type": "code",
      "metadata": {
        "colab": {
          "base_uri": "https://localhost:8080/"
        },
        "id": "3tRKSb56Qf2r",
        "outputId": "00ae4539-1ee0-4e0a-b318-708c7ba52595"
      },
      "source": [
        "%ls"
      ],
      "execution_count": 50,
      "outputs": [
        {
          "output_type": "stream",
          "name": "stdout",
          "text": [
            "args.py         data_loader.py  model.py  \u001b[0m\u001b[01;34m__pycache__\u001b[0m/  train.py\n",
            "build_vocab.py  demo.ipynb      \u001b[01;34mmodules\u001b[0m/  sample.py     \u001b[01;34mutils\u001b[0m/\n"
          ]
        }
      ]
    },
    {
      "cell_type": "code",
      "metadata": {
        "colab": {
          "base_uri": "https://localhost:8080/"
        },
        "id": "IVOO4FiGQizw",
        "outputId": "9e32cdda-7e24-429f-f40e-8ba1af596188"
      },
      "source": [
        "%cd src/"
      ],
      "execution_count": 51,
      "outputs": [
        {
          "output_type": "stream",
          "name": "stdout",
          "text": [
            "[Errno 2] No such file or directory: 'src/'\n",
            "/content/drive/MyDrive/inversecooking-master/src\n"
          ]
        }
      ]
    },
    {
      "cell_type": "code",
      "metadata": {
        "id": "1vH9bq-5PiDC"
      },
      "source": [
        "import matplotlib.pyplot as plt\n",
        "import pandas as pd\n",
        "import torch\n",
        "import torch.nn as nn\n",
        "import numpy as np\n",
        "import os\n",
        "from args import get_parser\n",
        "import pickle\n",
        "from model import get_model\n",
        "from torchvision import transforms\n",
        "from utils.output_utils import prepare_output\n",
        "from PIL import Image\n",
        "import time"
      ],
      "execution_count": 52,
      "outputs": []
    },
    {
      "cell_type": "markdown",
      "metadata": {
        "id": "xLS0Ntp7PiDD"
      },
      "source": [
        "Set ```data_dir``` to the path including vocabularies and model checkpoint"
      ]
    },
    {
      "cell_type": "code",
      "metadata": {
        "id": "Ily0qBoMPiDE"
      },
      "source": [
        "data_dir = '../data'"
      ],
      "execution_count": 53,
      "outputs": []
    },
    {
      "cell_type": "code",
      "metadata": {
        "id": "YaNFWeaJPiDE"
      },
      "source": [
        "# code will run in gpu if available and if the flag is set to True, else it will run on cpu\n",
        "use_gpu = True\n",
        "device = torch.device('cuda' if torch.cuda.is_available() and use_gpu else 'cpu')\n",
        "map_loc = None if torch.cuda.is_available() and use_gpu else 'cpu'"
      ],
      "execution_count": 54,
      "outputs": []
    },
    {
      "cell_type": "code",
      "metadata": {
        "colab": {
          "base_uri": "https://localhost:8080/"
        },
        "id": "547jKuYrRFnh",
        "outputId": "b0acf26f-d4cc-4882-9136-94c86acc31df"
      },
      "source": [
        "from google.colab import drive\n",
        "drive.mount('/content/drive')"
      ],
      "execution_count": 55,
      "outputs": [
        {
          "output_type": "stream",
          "name": "stdout",
          "text": [
            "Drive already mounted at /content/drive; to attempt to forcibly remount, call drive.mount(\"/content/drive\", force_remount=True).\n"
          ]
        }
      ]
    },
    {
      "cell_type": "code",
      "metadata": {
        "id": "iSNmkg2BPiDE"
      },
      "source": [
        "ingrs_vocab = pickle.load(open(os.path.join('/content/drive/MyDrive/ingr_vocab.pkl'), 'rb'))\n",
        "vocab = pickle.load(open(os.path.join('/content/drive/MyDrive/instr_vocab.pkl'), 'rb'))\n",
        "\n",
        "ingr_vocab_size = len(ingrs_vocab)\n",
        "instrs_vocab_size = len(vocab)\n",
        "output_dim = instrs_vocab_size"
      ],
      "execution_count": 56,
      "outputs": []
    },
    {
      "cell_type": "code",
      "metadata": {
        "colab": {
          "base_uri": "https://localhost:8080/"
        },
        "id": "0t_RKPwxPiDF",
        "outputId": "ba167e2c-30c7-40ba-b464-086aaffb8343"
      },
      "source": [
        "print (instrs_vocab_size, ingr_vocab_size)"
      ],
      "execution_count": 57,
      "outputs": [
        {
          "output_type": "stream",
          "name": "stdout",
          "text": [
            "23231 1488\n"
          ]
        }
      ]
    },
    {
      "cell_type": "code",
      "metadata": {
        "colab": {
          "base_uri": "https://localhost:8080/"
        },
        "id": "twkOETxUPiDF",
        "outputId": "c1a2c482-1361-41b1-ea4d-ee122fdc7216"
      },
      "source": [
        "t = time.time()\n",
        "import sys; sys.argv=['']; del sys\n",
        "args = get_parser()\n",
        "args.maxseqlen = 15\n",
        "args.ingrs_only=False\n",
        "model = get_model(args, ingr_vocab_size, instrs_vocab_size)\n",
        "# Load the trained model parameters\n",
        "model_path = os.path.join('/content/drive/MyDrive/modelbest.ckpt')\n",
        "model.load_state_dict(torch.load(model_path, map_location=map_loc))\n",
        "model.to(device)\n",
        "model.eval()\n",
        "model.ingrs_only = False\n",
        "model.recipe_only = False\n",
        "print ('loaded model')\n",
        "print (\"Elapsed time:\", time.time() -t)\n"
      ],
      "execution_count": 58,
      "outputs": [
        {
          "output_type": "stream",
          "name": "stderr",
          "text": [
            "/usr/local/lib/python3.7/dist-packages/torch/nn/_reduction.py:42: UserWarning: size_average and reduce args will be deprecated, please use reduction='none' instead.\n",
            "  warnings.warn(warning.format(ret))\n"
          ]
        },
        {
          "output_type": "stream",
          "name": "stdout",
          "text": [
            "loaded model\n",
            "Elapsed time: 2.7139830589294434\n"
          ]
        }
      ]
    },
    {
      "cell_type": "code",
      "metadata": {
        "id": "AFiL6JQ_8Mrb",
        "colab": {
          "base_uri": "https://localhost:8080/"
        },
        "outputId": "d780ccc8-5578-4598-c3de-52c2daf68118"
      },
      "source": [
        "model"
      ],
      "execution_count": 59,
      "outputs": [
        {
          "output_type": "execute_result",
          "data": {
            "text/plain": [
              "InverseCookingModel(\n",
              "  (ingredient_encoder): EncoderLabels(\n",
              "    (linear): Embedding(1488, 512, padding_idx=1487)\n",
              "  )\n",
              "  (recipe_decoder): DecoderTransformer(\n",
              "    (embed_tokens): Embedding(23231, 512, padding_idx=23230)\n",
              "    (embed_positions): LearnedPositionalEmbedding(1024, 512, padding_idx=0)\n",
              "    (layers): ModuleList(\n",
              "      (0): TransformerDecoderLayer(\n",
              "        (self_attn): MultiheadAttention(\n",
              "          (out_proj): Linear(in_features=512, out_features=512, bias=True)\n",
              "        )\n",
              "        (cond_att): MultiheadAttention(\n",
              "          (out_proj): Linear(in_features=512, out_features=512, bias=True)\n",
              "        )\n",
              "        (fc1): Linear(in_features=512, out_features=512, bias=True)\n",
              "        (fc2): Linear(in_features=512, out_features=512, bias=True)\n",
              "        (layer_norms): ModuleList(\n",
              "          (0): LayerNorm((512,), eps=1e-05, elementwise_affine=True)\n",
              "          (1): LayerNorm((512,), eps=1e-05, elementwise_affine=True)\n",
              "          (2): LayerNorm((512,), eps=1e-05, elementwise_affine=True)\n",
              "        )\n",
              "      )\n",
              "      (1): TransformerDecoderLayer(\n",
              "        (self_attn): MultiheadAttention(\n",
              "          (out_proj): Linear(in_features=512, out_features=512, bias=True)\n",
              "        )\n",
              "        (cond_att): MultiheadAttention(\n",
              "          (out_proj): Linear(in_features=512, out_features=512, bias=True)\n",
              "        )\n",
              "        (fc1): Linear(in_features=512, out_features=512, bias=True)\n",
              "        (fc2): Linear(in_features=512, out_features=512, bias=True)\n",
              "        (layer_norms): ModuleList(\n",
              "          (0): LayerNorm((512,), eps=1e-05, elementwise_affine=True)\n",
              "          (1): LayerNorm((512,), eps=1e-05, elementwise_affine=True)\n",
              "          (2): LayerNorm((512,), eps=1e-05, elementwise_affine=True)\n",
              "        )\n",
              "      )\n",
              "      (2): TransformerDecoderLayer(\n",
              "        (self_attn): MultiheadAttention(\n",
              "          (out_proj): Linear(in_features=512, out_features=512, bias=True)\n",
              "        )\n",
              "        (cond_att): MultiheadAttention(\n",
              "          (out_proj): Linear(in_features=512, out_features=512, bias=True)\n",
              "        )\n",
              "        (fc1): Linear(in_features=512, out_features=512, bias=True)\n",
              "        (fc2): Linear(in_features=512, out_features=512, bias=True)\n",
              "        (layer_norms): ModuleList(\n",
              "          (0): LayerNorm((512,), eps=1e-05, elementwise_affine=True)\n",
              "          (1): LayerNorm((512,), eps=1e-05, elementwise_affine=True)\n",
              "          (2): LayerNorm((512,), eps=1e-05, elementwise_affine=True)\n",
              "        )\n",
              "      )\n",
              "      (3): TransformerDecoderLayer(\n",
              "        (self_attn): MultiheadAttention(\n",
              "          (out_proj): Linear(in_features=512, out_features=512, bias=True)\n",
              "        )\n",
              "        (cond_att): MultiheadAttention(\n",
              "          (out_proj): Linear(in_features=512, out_features=512, bias=True)\n",
              "        )\n",
              "        (fc1): Linear(in_features=512, out_features=512, bias=True)\n",
              "        (fc2): Linear(in_features=512, out_features=512, bias=True)\n",
              "        (layer_norms): ModuleList(\n",
              "          (0): LayerNorm((512,), eps=1e-05, elementwise_affine=True)\n",
              "          (1): LayerNorm((512,), eps=1e-05, elementwise_affine=True)\n",
              "          (2): LayerNorm((512,), eps=1e-05, elementwise_affine=True)\n",
              "        )\n",
              "      )\n",
              "      (4): TransformerDecoderLayer(\n",
              "        (self_attn): MultiheadAttention(\n",
              "          (out_proj): Linear(in_features=512, out_features=512, bias=True)\n",
              "        )\n",
              "        (cond_att): MultiheadAttention(\n",
              "          (out_proj): Linear(in_features=512, out_features=512, bias=True)\n",
              "        )\n",
              "        (fc1): Linear(in_features=512, out_features=512, bias=True)\n",
              "        (fc2): Linear(in_features=512, out_features=512, bias=True)\n",
              "        (layer_norms): ModuleList(\n",
              "          (0): LayerNorm((512,), eps=1e-05, elementwise_affine=True)\n",
              "          (1): LayerNorm((512,), eps=1e-05, elementwise_affine=True)\n",
              "          (2): LayerNorm((512,), eps=1e-05, elementwise_affine=True)\n",
              "        )\n",
              "      )\n",
              "      (5): TransformerDecoderLayer(\n",
              "        (self_attn): MultiheadAttention(\n",
              "          (out_proj): Linear(in_features=512, out_features=512, bias=True)\n",
              "        )\n",
              "        (cond_att): MultiheadAttention(\n",
              "          (out_proj): Linear(in_features=512, out_features=512, bias=True)\n",
              "        )\n",
              "        (fc1): Linear(in_features=512, out_features=512, bias=True)\n",
              "        (fc2): Linear(in_features=512, out_features=512, bias=True)\n",
              "        (layer_norms): ModuleList(\n",
              "          (0): LayerNorm((512,), eps=1e-05, elementwise_affine=True)\n",
              "          (1): LayerNorm((512,), eps=1e-05, elementwise_affine=True)\n",
              "          (2): LayerNorm((512,), eps=1e-05, elementwise_affine=True)\n",
              "        )\n",
              "      )\n",
              "      (6): TransformerDecoderLayer(\n",
              "        (self_attn): MultiheadAttention(\n",
              "          (out_proj): Linear(in_features=512, out_features=512, bias=True)\n",
              "        )\n",
              "        (cond_att): MultiheadAttention(\n",
              "          (out_proj): Linear(in_features=512, out_features=512, bias=True)\n",
              "        )\n",
              "        (fc1): Linear(in_features=512, out_features=512, bias=True)\n",
              "        (fc2): Linear(in_features=512, out_features=512, bias=True)\n",
              "        (layer_norms): ModuleList(\n",
              "          (0): LayerNorm((512,), eps=1e-05, elementwise_affine=True)\n",
              "          (1): LayerNorm((512,), eps=1e-05, elementwise_affine=True)\n",
              "          (2): LayerNorm((512,), eps=1e-05, elementwise_affine=True)\n",
              "        )\n",
              "      )\n",
              "      (7): TransformerDecoderLayer(\n",
              "        (self_attn): MultiheadAttention(\n",
              "          (out_proj): Linear(in_features=512, out_features=512, bias=True)\n",
              "        )\n",
              "        (cond_att): MultiheadAttention(\n",
              "          (out_proj): Linear(in_features=512, out_features=512, bias=True)\n",
              "        )\n",
              "        (fc1): Linear(in_features=512, out_features=512, bias=True)\n",
              "        (fc2): Linear(in_features=512, out_features=512, bias=True)\n",
              "        (layer_norms): ModuleList(\n",
              "          (0): LayerNorm((512,), eps=1e-05, elementwise_affine=True)\n",
              "          (1): LayerNorm((512,), eps=1e-05, elementwise_affine=True)\n",
              "          (2): LayerNorm((512,), eps=1e-05, elementwise_affine=True)\n",
              "        )\n",
              "      )\n",
              "      (8): TransformerDecoderLayer(\n",
              "        (self_attn): MultiheadAttention(\n",
              "          (out_proj): Linear(in_features=512, out_features=512, bias=True)\n",
              "        )\n",
              "        (cond_att): MultiheadAttention(\n",
              "          (out_proj): Linear(in_features=512, out_features=512, bias=True)\n",
              "        )\n",
              "        (fc1): Linear(in_features=512, out_features=512, bias=True)\n",
              "        (fc2): Linear(in_features=512, out_features=512, bias=True)\n",
              "        (layer_norms): ModuleList(\n",
              "          (0): LayerNorm((512,), eps=1e-05, elementwise_affine=True)\n",
              "          (1): LayerNorm((512,), eps=1e-05, elementwise_affine=True)\n",
              "          (2): LayerNorm((512,), eps=1e-05, elementwise_affine=True)\n",
              "        )\n",
              "      )\n",
              "      (9): TransformerDecoderLayer(\n",
              "        (self_attn): MultiheadAttention(\n",
              "          (out_proj): Linear(in_features=512, out_features=512, bias=True)\n",
              "        )\n",
              "        (cond_att): MultiheadAttention(\n",
              "          (out_proj): Linear(in_features=512, out_features=512, bias=True)\n",
              "        )\n",
              "        (fc1): Linear(in_features=512, out_features=512, bias=True)\n",
              "        (fc2): Linear(in_features=512, out_features=512, bias=True)\n",
              "        (layer_norms): ModuleList(\n",
              "          (0): LayerNorm((512,), eps=1e-05, elementwise_affine=True)\n",
              "          (1): LayerNorm((512,), eps=1e-05, elementwise_affine=True)\n",
              "          (2): LayerNorm((512,), eps=1e-05, elementwise_affine=True)\n",
              "        )\n",
              "      )\n",
              "      (10): TransformerDecoderLayer(\n",
              "        (self_attn): MultiheadAttention(\n",
              "          (out_proj): Linear(in_features=512, out_features=512, bias=True)\n",
              "        )\n",
              "        (cond_att): MultiheadAttention(\n",
              "          (out_proj): Linear(in_features=512, out_features=512, bias=True)\n",
              "        )\n",
              "        (fc1): Linear(in_features=512, out_features=512, bias=True)\n",
              "        (fc2): Linear(in_features=512, out_features=512, bias=True)\n",
              "        (layer_norms): ModuleList(\n",
              "          (0): LayerNorm((512,), eps=1e-05, elementwise_affine=True)\n",
              "          (1): LayerNorm((512,), eps=1e-05, elementwise_affine=True)\n",
              "          (2): LayerNorm((512,), eps=1e-05, elementwise_affine=True)\n",
              "        )\n",
              "      )\n",
              "      (11): TransformerDecoderLayer(\n",
              "        (self_attn): MultiheadAttention(\n",
              "          (out_proj): Linear(in_features=512, out_features=512, bias=True)\n",
              "        )\n",
              "        (cond_att): MultiheadAttention(\n",
              "          (out_proj): Linear(in_features=512, out_features=512, bias=True)\n",
              "        )\n",
              "        (fc1): Linear(in_features=512, out_features=512, bias=True)\n",
              "        (fc2): Linear(in_features=512, out_features=512, bias=True)\n",
              "        (layer_norms): ModuleList(\n",
              "          (0): LayerNorm((512,), eps=1e-05, elementwise_affine=True)\n",
              "          (1): LayerNorm((512,), eps=1e-05, elementwise_affine=True)\n",
              "          (2): LayerNorm((512,), eps=1e-05, elementwise_affine=True)\n",
              "        )\n",
              "      )\n",
              "      (12): TransformerDecoderLayer(\n",
              "        (self_attn): MultiheadAttention(\n",
              "          (out_proj): Linear(in_features=512, out_features=512, bias=True)\n",
              "        )\n",
              "        (cond_att): MultiheadAttention(\n",
              "          (out_proj): Linear(in_features=512, out_features=512, bias=True)\n",
              "        )\n",
              "        (fc1): Linear(in_features=512, out_features=512, bias=True)\n",
              "        (fc2): Linear(in_features=512, out_features=512, bias=True)\n",
              "        (layer_norms): ModuleList(\n",
              "          (0): LayerNorm((512,), eps=1e-05, elementwise_affine=True)\n",
              "          (1): LayerNorm((512,), eps=1e-05, elementwise_affine=True)\n",
              "          (2): LayerNorm((512,), eps=1e-05, elementwise_affine=True)\n",
              "        )\n",
              "      )\n",
              "      (13): TransformerDecoderLayer(\n",
              "        (self_attn): MultiheadAttention(\n",
              "          (out_proj): Linear(in_features=512, out_features=512, bias=True)\n",
              "        )\n",
              "        (cond_att): MultiheadAttention(\n",
              "          (out_proj): Linear(in_features=512, out_features=512, bias=True)\n",
              "        )\n",
              "        (fc1): Linear(in_features=512, out_features=512, bias=True)\n",
              "        (fc2): Linear(in_features=512, out_features=512, bias=True)\n",
              "        (layer_norms): ModuleList(\n",
              "          (0): LayerNorm((512,), eps=1e-05, elementwise_affine=True)\n",
              "          (1): LayerNorm((512,), eps=1e-05, elementwise_affine=True)\n",
              "          (2): LayerNorm((512,), eps=1e-05, elementwise_affine=True)\n",
              "        )\n",
              "      )\n",
              "      (14): TransformerDecoderLayer(\n",
              "        (self_attn): MultiheadAttention(\n",
              "          (out_proj): Linear(in_features=512, out_features=512, bias=True)\n",
              "        )\n",
              "        (cond_att): MultiheadAttention(\n",
              "          (out_proj): Linear(in_features=512, out_features=512, bias=True)\n",
              "        )\n",
              "        (fc1): Linear(in_features=512, out_features=512, bias=True)\n",
              "        (fc2): Linear(in_features=512, out_features=512, bias=True)\n",
              "        (layer_norms): ModuleList(\n",
              "          (0): LayerNorm((512,), eps=1e-05, elementwise_affine=True)\n",
              "          (1): LayerNorm((512,), eps=1e-05, elementwise_affine=True)\n",
              "          (2): LayerNorm((512,), eps=1e-05, elementwise_affine=True)\n",
              "        )\n",
              "      )\n",
              "      (15): TransformerDecoderLayer(\n",
              "        (self_attn): MultiheadAttention(\n",
              "          (out_proj): Linear(in_features=512, out_features=512, bias=True)\n",
              "        )\n",
              "        (cond_att): MultiheadAttention(\n",
              "          (out_proj): Linear(in_features=512, out_features=512, bias=True)\n",
              "        )\n",
              "        (fc1): Linear(in_features=512, out_features=512, bias=True)\n",
              "        (fc2): Linear(in_features=512, out_features=512, bias=True)\n",
              "        (layer_norms): ModuleList(\n",
              "          (0): LayerNorm((512,), eps=1e-05, elementwise_affine=True)\n",
              "          (1): LayerNorm((512,), eps=1e-05, elementwise_affine=True)\n",
              "          (2): LayerNorm((512,), eps=1e-05, elementwise_affine=True)\n",
              "        )\n",
              "      )\n",
              "    )\n",
              "    (linear): Linear(in_features=512, out_features=23230, bias=True)\n",
              "  )\n",
              "  (image_encoder): EncoderCNN(\n",
              "    (resnet): Sequential(\n",
              "      (0): Conv2d(3, 64, kernel_size=(7, 7), stride=(2, 2), padding=(3, 3), bias=False)\n",
              "      (1): BatchNorm2d(64, eps=1e-05, momentum=0.1, affine=True, track_running_stats=True)\n",
              "      (2): ReLU(inplace=True)\n",
              "      (3): MaxPool2d(kernel_size=3, stride=2, padding=1, dilation=1, ceil_mode=False)\n",
              "      (4): Sequential(\n",
              "        (0): Bottleneck(\n",
              "          (conv1): Conv2d(64, 64, kernel_size=(1, 1), stride=(1, 1), bias=False)\n",
              "          (bn1): BatchNorm2d(64, eps=1e-05, momentum=0.1, affine=True, track_running_stats=True)\n",
              "          (conv2): Conv2d(64, 64, kernel_size=(3, 3), stride=(1, 1), padding=(1, 1), bias=False)\n",
              "          (bn2): BatchNorm2d(64, eps=1e-05, momentum=0.1, affine=True, track_running_stats=True)\n",
              "          (conv3): Conv2d(64, 256, kernel_size=(1, 1), stride=(1, 1), bias=False)\n",
              "          (bn3): BatchNorm2d(256, eps=1e-05, momentum=0.1, affine=True, track_running_stats=True)\n",
              "          (relu): ReLU(inplace=True)\n",
              "          (downsample): Sequential(\n",
              "            (0): Conv2d(64, 256, kernel_size=(1, 1), stride=(1, 1), bias=False)\n",
              "            (1): BatchNorm2d(256, eps=1e-05, momentum=0.1, affine=True, track_running_stats=True)\n",
              "          )\n",
              "        )\n",
              "        (1): Bottleneck(\n",
              "          (conv1): Conv2d(256, 64, kernel_size=(1, 1), stride=(1, 1), bias=False)\n",
              "          (bn1): BatchNorm2d(64, eps=1e-05, momentum=0.1, affine=True, track_running_stats=True)\n",
              "          (conv2): Conv2d(64, 64, kernel_size=(3, 3), stride=(1, 1), padding=(1, 1), bias=False)\n",
              "          (bn2): BatchNorm2d(64, eps=1e-05, momentum=0.1, affine=True, track_running_stats=True)\n",
              "          (conv3): Conv2d(64, 256, kernel_size=(1, 1), stride=(1, 1), bias=False)\n",
              "          (bn3): BatchNorm2d(256, eps=1e-05, momentum=0.1, affine=True, track_running_stats=True)\n",
              "          (relu): ReLU(inplace=True)\n",
              "        )\n",
              "        (2): Bottleneck(\n",
              "          (conv1): Conv2d(256, 64, kernel_size=(1, 1), stride=(1, 1), bias=False)\n",
              "          (bn1): BatchNorm2d(64, eps=1e-05, momentum=0.1, affine=True, track_running_stats=True)\n",
              "          (conv2): Conv2d(64, 64, kernel_size=(3, 3), stride=(1, 1), padding=(1, 1), bias=False)\n",
              "          (bn2): BatchNorm2d(64, eps=1e-05, momentum=0.1, affine=True, track_running_stats=True)\n",
              "          (conv3): Conv2d(64, 256, kernel_size=(1, 1), stride=(1, 1), bias=False)\n",
              "          (bn3): BatchNorm2d(256, eps=1e-05, momentum=0.1, affine=True, track_running_stats=True)\n",
              "          (relu): ReLU(inplace=True)\n",
              "        )\n",
              "      )\n",
              "      (5): Sequential(\n",
              "        (0): Bottleneck(\n",
              "          (conv1): Conv2d(256, 128, kernel_size=(1, 1), stride=(1, 1), bias=False)\n",
              "          (bn1): BatchNorm2d(128, eps=1e-05, momentum=0.1, affine=True, track_running_stats=True)\n",
              "          (conv2): Conv2d(128, 128, kernel_size=(3, 3), stride=(2, 2), padding=(1, 1), bias=False)\n",
              "          (bn2): BatchNorm2d(128, eps=1e-05, momentum=0.1, affine=True, track_running_stats=True)\n",
              "          (conv3): Conv2d(128, 512, kernel_size=(1, 1), stride=(1, 1), bias=False)\n",
              "          (bn3): BatchNorm2d(512, eps=1e-05, momentum=0.1, affine=True, track_running_stats=True)\n",
              "          (relu): ReLU(inplace=True)\n",
              "          (downsample): Sequential(\n",
              "            (0): Conv2d(256, 512, kernel_size=(1, 1), stride=(2, 2), bias=False)\n",
              "            (1): BatchNorm2d(512, eps=1e-05, momentum=0.1, affine=True, track_running_stats=True)\n",
              "          )\n",
              "        )\n",
              "        (1): Bottleneck(\n",
              "          (conv1): Conv2d(512, 128, kernel_size=(1, 1), stride=(1, 1), bias=False)\n",
              "          (bn1): BatchNorm2d(128, eps=1e-05, momentum=0.1, affine=True, track_running_stats=True)\n",
              "          (conv2): Conv2d(128, 128, kernel_size=(3, 3), stride=(1, 1), padding=(1, 1), bias=False)\n",
              "          (bn2): BatchNorm2d(128, eps=1e-05, momentum=0.1, affine=True, track_running_stats=True)\n",
              "          (conv3): Conv2d(128, 512, kernel_size=(1, 1), stride=(1, 1), bias=False)\n",
              "          (bn3): BatchNorm2d(512, eps=1e-05, momentum=0.1, affine=True, track_running_stats=True)\n",
              "          (relu): ReLU(inplace=True)\n",
              "        )\n",
              "        (2): Bottleneck(\n",
              "          (conv1): Conv2d(512, 128, kernel_size=(1, 1), stride=(1, 1), bias=False)\n",
              "          (bn1): BatchNorm2d(128, eps=1e-05, momentum=0.1, affine=True, track_running_stats=True)\n",
              "          (conv2): Conv2d(128, 128, kernel_size=(3, 3), stride=(1, 1), padding=(1, 1), bias=False)\n",
              "          (bn2): BatchNorm2d(128, eps=1e-05, momentum=0.1, affine=True, track_running_stats=True)\n",
              "          (conv3): Conv2d(128, 512, kernel_size=(1, 1), stride=(1, 1), bias=False)\n",
              "          (bn3): BatchNorm2d(512, eps=1e-05, momentum=0.1, affine=True, track_running_stats=True)\n",
              "          (relu): ReLU(inplace=True)\n",
              "        )\n",
              "        (3): Bottleneck(\n",
              "          (conv1): Conv2d(512, 128, kernel_size=(1, 1), stride=(1, 1), bias=False)\n",
              "          (bn1): BatchNorm2d(128, eps=1e-05, momentum=0.1, affine=True, track_running_stats=True)\n",
              "          (conv2): Conv2d(128, 128, kernel_size=(3, 3), stride=(1, 1), padding=(1, 1), bias=False)\n",
              "          (bn2): BatchNorm2d(128, eps=1e-05, momentum=0.1, affine=True, track_running_stats=True)\n",
              "          (conv3): Conv2d(128, 512, kernel_size=(1, 1), stride=(1, 1), bias=False)\n",
              "          (bn3): BatchNorm2d(512, eps=1e-05, momentum=0.1, affine=True, track_running_stats=True)\n",
              "          (relu): ReLU(inplace=True)\n",
              "        )\n",
              "      )\n",
              "      (6): Sequential(\n",
              "        (0): Bottleneck(\n",
              "          (conv1): Conv2d(512, 256, kernel_size=(1, 1), stride=(1, 1), bias=False)\n",
              "          (bn1): BatchNorm2d(256, eps=1e-05, momentum=0.1, affine=True, track_running_stats=True)\n",
              "          (conv2): Conv2d(256, 256, kernel_size=(3, 3), stride=(2, 2), padding=(1, 1), bias=False)\n",
              "          (bn2): BatchNorm2d(256, eps=1e-05, momentum=0.1, affine=True, track_running_stats=True)\n",
              "          (conv3): Conv2d(256, 1024, kernel_size=(1, 1), stride=(1, 1), bias=False)\n",
              "          (bn3): BatchNorm2d(1024, eps=1e-05, momentum=0.1, affine=True, track_running_stats=True)\n",
              "          (relu): ReLU(inplace=True)\n",
              "          (downsample): Sequential(\n",
              "            (0): Conv2d(512, 1024, kernel_size=(1, 1), stride=(2, 2), bias=False)\n",
              "            (1): BatchNorm2d(1024, eps=1e-05, momentum=0.1, affine=True, track_running_stats=True)\n",
              "          )\n",
              "        )\n",
              "        (1): Bottleneck(\n",
              "          (conv1): Conv2d(1024, 256, kernel_size=(1, 1), stride=(1, 1), bias=False)\n",
              "          (bn1): BatchNorm2d(256, eps=1e-05, momentum=0.1, affine=True, track_running_stats=True)\n",
              "          (conv2): Conv2d(256, 256, kernel_size=(3, 3), stride=(1, 1), padding=(1, 1), bias=False)\n",
              "          (bn2): BatchNorm2d(256, eps=1e-05, momentum=0.1, affine=True, track_running_stats=True)\n",
              "          (conv3): Conv2d(256, 1024, kernel_size=(1, 1), stride=(1, 1), bias=False)\n",
              "          (bn3): BatchNorm2d(1024, eps=1e-05, momentum=0.1, affine=True, track_running_stats=True)\n",
              "          (relu): ReLU(inplace=True)\n",
              "        )\n",
              "        (2): Bottleneck(\n",
              "          (conv1): Conv2d(1024, 256, kernel_size=(1, 1), stride=(1, 1), bias=False)\n",
              "          (bn1): BatchNorm2d(256, eps=1e-05, momentum=0.1, affine=True, track_running_stats=True)\n",
              "          (conv2): Conv2d(256, 256, kernel_size=(3, 3), stride=(1, 1), padding=(1, 1), bias=False)\n",
              "          (bn2): BatchNorm2d(256, eps=1e-05, momentum=0.1, affine=True, track_running_stats=True)\n",
              "          (conv3): Conv2d(256, 1024, kernel_size=(1, 1), stride=(1, 1), bias=False)\n",
              "          (bn3): BatchNorm2d(1024, eps=1e-05, momentum=0.1, affine=True, track_running_stats=True)\n",
              "          (relu): ReLU(inplace=True)\n",
              "        )\n",
              "        (3): Bottleneck(\n",
              "          (conv1): Conv2d(1024, 256, kernel_size=(1, 1), stride=(1, 1), bias=False)\n",
              "          (bn1): BatchNorm2d(256, eps=1e-05, momentum=0.1, affine=True, track_running_stats=True)\n",
              "          (conv2): Conv2d(256, 256, kernel_size=(3, 3), stride=(1, 1), padding=(1, 1), bias=False)\n",
              "          (bn2): BatchNorm2d(256, eps=1e-05, momentum=0.1, affine=True, track_running_stats=True)\n",
              "          (conv3): Conv2d(256, 1024, kernel_size=(1, 1), stride=(1, 1), bias=False)\n",
              "          (bn3): BatchNorm2d(1024, eps=1e-05, momentum=0.1, affine=True, track_running_stats=True)\n",
              "          (relu): ReLU(inplace=True)\n",
              "        )\n",
              "        (4): Bottleneck(\n",
              "          (conv1): Conv2d(1024, 256, kernel_size=(1, 1), stride=(1, 1), bias=False)\n",
              "          (bn1): BatchNorm2d(256, eps=1e-05, momentum=0.1, affine=True, track_running_stats=True)\n",
              "          (conv2): Conv2d(256, 256, kernel_size=(3, 3), stride=(1, 1), padding=(1, 1), bias=False)\n",
              "          (bn2): BatchNorm2d(256, eps=1e-05, momentum=0.1, affine=True, track_running_stats=True)\n",
              "          (conv3): Conv2d(256, 1024, kernel_size=(1, 1), stride=(1, 1), bias=False)\n",
              "          (bn3): BatchNorm2d(1024, eps=1e-05, momentum=0.1, affine=True, track_running_stats=True)\n",
              "          (relu): ReLU(inplace=True)\n",
              "        )\n",
              "        (5): Bottleneck(\n",
              "          (conv1): Conv2d(1024, 256, kernel_size=(1, 1), stride=(1, 1), bias=False)\n",
              "          (bn1): BatchNorm2d(256, eps=1e-05, momentum=0.1, affine=True, track_running_stats=True)\n",
              "          (conv2): Conv2d(256, 256, kernel_size=(3, 3), stride=(1, 1), padding=(1, 1), bias=False)\n",
              "          (bn2): BatchNorm2d(256, eps=1e-05, momentum=0.1, affine=True, track_running_stats=True)\n",
              "          (conv3): Conv2d(256, 1024, kernel_size=(1, 1), stride=(1, 1), bias=False)\n",
              "          (bn3): BatchNorm2d(1024, eps=1e-05, momentum=0.1, affine=True, track_running_stats=True)\n",
              "          (relu): ReLU(inplace=True)\n",
              "        )\n",
              "      )\n",
              "      (7): Sequential(\n",
              "        (0): Bottleneck(\n",
              "          (conv1): Conv2d(1024, 512, kernel_size=(1, 1), stride=(1, 1), bias=False)\n",
              "          (bn1): BatchNorm2d(512, eps=1e-05, momentum=0.1, affine=True, track_running_stats=True)\n",
              "          (conv2): Conv2d(512, 512, kernel_size=(3, 3), stride=(2, 2), padding=(1, 1), bias=False)\n",
              "          (bn2): BatchNorm2d(512, eps=1e-05, momentum=0.1, affine=True, track_running_stats=True)\n",
              "          (conv3): Conv2d(512, 2048, kernel_size=(1, 1), stride=(1, 1), bias=False)\n",
              "          (bn3): BatchNorm2d(2048, eps=1e-05, momentum=0.1, affine=True, track_running_stats=True)\n",
              "          (relu): ReLU(inplace=True)\n",
              "          (downsample): Sequential(\n",
              "            (0): Conv2d(1024, 2048, kernel_size=(1, 1), stride=(2, 2), bias=False)\n",
              "            (1): BatchNorm2d(2048, eps=1e-05, momentum=0.1, affine=True, track_running_stats=True)\n",
              "          )\n",
              "        )\n",
              "        (1): Bottleneck(\n",
              "          (conv1): Conv2d(2048, 512, kernel_size=(1, 1), stride=(1, 1), bias=False)\n",
              "          (bn1): BatchNorm2d(512, eps=1e-05, momentum=0.1, affine=True, track_running_stats=True)\n",
              "          (conv2): Conv2d(512, 512, kernel_size=(3, 3), stride=(1, 1), padding=(1, 1), bias=False)\n",
              "          (bn2): BatchNorm2d(512, eps=1e-05, momentum=0.1, affine=True, track_running_stats=True)\n",
              "          (conv3): Conv2d(512, 2048, kernel_size=(1, 1), stride=(1, 1), bias=False)\n",
              "          (bn3): BatchNorm2d(2048, eps=1e-05, momentum=0.1, affine=True, track_running_stats=True)\n",
              "          (relu): ReLU(inplace=True)\n",
              "        )\n",
              "        (2): Bottleneck(\n",
              "          (conv1): Conv2d(2048, 512, kernel_size=(1, 1), stride=(1, 1), bias=False)\n",
              "          (bn1): BatchNorm2d(512, eps=1e-05, momentum=0.1, affine=True, track_running_stats=True)\n",
              "          (conv2): Conv2d(512, 512, kernel_size=(3, 3), stride=(1, 1), padding=(1, 1), bias=False)\n",
              "          (bn2): BatchNorm2d(512, eps=1e-05, momentum=0.1, affine=True, track_running_stats=True)\n",
              "          (conv3): Conv2d(512, 2048, kernel_size=(1, 1), stride=(1, 1), bias=False)\n",
              "          (bn3): BatchNorm2d(2048, eps=1e-05, momentum=0.1, affine=True, track_running_stats=True)\n",
              "          (relu): ReLU(inplace=True)\n",
              "        )\n",
              "      )\n",
              "    )\n",
              "    (linear): Sequential(\n",
              "      (0): Conv2d(2048, 512, kernel_size=(1, 1), stride=(1, 1))\n",
              "      (1): Dropout2d(p=0.3, inplace=False)\n",
              "    )\n",
              "  )\n",
              "  (ingredient_decoder): DecoderTransformer(\n",
              "    (embed_tokens): Embedding(1488, 512, padding_idx=1487)\n",
              "    (layer_norms_in): ModuleList(\n",
              "      (0): LayerNorm((512,), eps=1e-05, elementwise_affine=True)\n",
              "      (1): LayerNorm((512,), eps=1e-05, elementwise_affine=True)\n",
              "      (2): LayerNorm((512,), eps=1e-05, elementwise_affine=True)\n",
              "    )\n",
              "    (layers): ModuleList(\n",
              "      (0): TransformerDecoderLayer(\n",
              "        (self_attn): MultiheadAttention(\n",
              "          (out_proj): Linear(in_features=512, out_features=512, bias=True)\n",
              "        )\n",
              "        (cond_att): MultiheadAttention(\n",
              "          (out_proj): Linear(in_features=512, out_features=512, bias=True)\n",
              "        )\n",
              "        (fc1): Linear(in_features=512, out_features=512, bias=True)\n",
              "        (fc2): Linear(in_features=512, out_features=512, bias=True)\n",
              "        (layer_norms): ModuleList(\n",
              "          (0): LayerNorm((512,), eps=1e-05, elementwise_affine=True)\n",
              "          (1): LayerNorm((512,), eps=1e-05, elementwise_affine=True)\n",
              "          (2): LayerNorm((512,), eps=1e-05, elementwise_affine=True)\n",
              "        )\n",
              "        (last_ln): LayerNorm((512,), eps=1e-05, elementwise_affine=True)\n",
              "      )\n",
              "      (1): TransformerDecoderLayer(\n",
              "        (self_attn): MultiheadAttention(\n",
              "          (out_proj): Linear(in_features=512, out_features=512, bias=True)\n",
              "        )\n",
              "        (cond_att): MultiheadAttention(\n",
              "          (out_proj): Linear(in_features=512, out_features=512, bias=True)\n",
              "        )\n",
              "        (fc1): Linear(in_features=512, out_features=512, bias=True)\n",
              "        (fc2): Linear(in_features=512, out_features=512, bias=True)\n",
              "        (layer_norms): ModuleList(\n",
              "          (0): LayerNorm((512,), eps=1e-05, elementwise_affine=True)\n",
              "          (1): LayerNorm((512,), eps=1e-05, elementwise_affine=True)\n",
              "          (2): LayerNorm((512,), eps=1e-05, elementwise_affine=True)\n",
              "        )\n",
              "        (last_ln): LayerNorm((512,), eps=1e-05, elementwise_affine=True)\n",
              "      )\n",
              "      (2): TransformerDecoderLayer(\n",
              "        (self_attn): MultiheadAttention(\n",
              "          (out_proj): Linear(in_features=512, out_features=512, bias=True)\n",
              "        )\n",
              "        (cond_att): MultiheadAttention(\n",
              "          (out_proj): Linear(in_features=512, out_features=512, bias=True)\n",
              "        )\n",
              "        (fc1): Linear(in_features=512, out_features=512, bias=True)\n",
              "        (fc2): Linear(in_features=512, out_features=512, bias=True)\n",
              "        (layer_norms): ModuleList(\n",
              "          (0): LayerNorm((512,), eps=1e-05, elementwise_affine=True)\n",
              "          (1): LayerNorm((512,), eps=1e-05, elementwise_affine=True)\n",
              "          (2): LayerNorm((512,), eps=1e-05, elementwise_affine=True)\n",
              "        )\n",
              "        (last_ln): LayerNorm((512,), eps=1e-05, elementwise_affine=True)\n",
              "      )\n",
              "      (3): TransformerDecoderLayer(\n",
              "        (self_attn): MultiheadAttention(\n",
              "          (out_proj): Linear(in_features=512, out_features=512, bias=True)\n",
              "        )\n",
              "        (cond_att): MultiheadAttention(\n",
              "          (out_proj): Linear(in_features=512, out_features=512, bias=True)\n",
              "        )\n",
              "        (fc1): Linear(in_features=512, out_features=512, bias=True)\n",
              "        (fc2): Linear(in_features=512, out_features=512, bias=True)\n",
              "        (layer_norms): ModuleList(\n",
              "          (0): LayerNorm((512,), eps=1e-05, elementwise_affine=True)\n",
              "          (1): LayerNorm((512,), eps=1e-05, elementwise_affine=True)\n",
              "          (2): LayerNorm((512,), eps=1e-05, elementwise_affine=True)\n",
              "        )\n",
              "        (last_ln): LayerNorm((512,), eps=1e-05, elementwise_affine=True)\n",
              "      )\n",
              "    )\n",
              "    (linear): Linear(in_features=512, out_features=1487, bias=True)\n",
              "  )\n",
              "  (crit): MaskedCrossEntropyCriterion()\n",
              "  (crit_ingr): BCELoss()\n",
              "  (crit_eos): BCELoss()\n",
              ")"
            ]
          },
          "metadata": {},
          "execution_count": 59
        }
      ]
    },
    {
      "cell_type": "code",
      "metadata": {
        "id": "JkiOjrsxPiDG"
      },
      "source": [
        "transf_list_batch = []\n",
        "transf_list_batch.append(transforms.ToTensor())\n",
        "transf_list_batch.append(transforms.Normalize((0.485, 0.456, 0.406), \n",
        "                                              (0.229, 0.224, 0.225)))\n",
        "to_input_transf = transforms.Compose(transf_list_batch)"
      ],
      "execution_count": 60,
      "outputs": []
    },
    {
      "cell_type": "code",
      "metadata": {
        "id": "0S0SIEbqPiDH"
      },
      "source": [
        "greedy = [True, False, False, False]\n",
        "beam = [-1, -1, -1, -1]\n",
        "temperature = 1.0\n",
        "numgens = len(greedy)"
      ],
      "execution_count": 61,
      "outputs": []
    },
    {
      "cell_type": "markdown",
      "metadata": {
        "id": "FRY35vegPiDH"
      },
      "source": [
        "Set ```use_urls = True``` to get recipes for images in ```demo_urls```. \n",
        "\n",
        "You can also set ```use_urls = False``` and get recipes for images in the path in ```data_dir/test_imgs```."
      ]
    },
    {
      "cell_type": "code",
      "metadata": {
        "scrolled": true,
        "id": "ndJwggcxPiDH"
      },
      "source": [
        "import requests\n",
        "from io import BytesIO\n",
        "import random\n",
        "from collections import Counter\n",
        "use_urls = True # set to true to load images from demo_urls instead of those in test_imgs folder\n",
        "show_anyways = False #if True, it will show the recipe even if it's not valid\n",
        "image_folder = os.path.join(data_dir, 'demo_imgs')\n",
        "\n",
        "if not use_urls:\n",
        "    demo_imgs = os.listdir(image_folder)\n",
        "    random.shuffle(demo_imgs)\n",
        "\n",
        "demo_urls = ['https://geekrobocook.com/wp-content/uploads/2021/01/Dahi-aloo-curry.jpg']\n",
        "\n",
        "demo_files = demo_urls if use_urls else demo_imgs"
      ],
      "execution_count": 62,
      "outputs": []
    },
    {
      "cell_type": "code",
      "metadata": {
        "colab": {
          "base_uri": "https://localhost:8080/",
          "height": 1000
        },
        "id": "zXJgEyioPiDI",
        "outputId": "6fddca99-0b5d-48e9-acac-ab46d42e6ce8"
      },
      "source": [
        "all_predicts = []\n",
        "for img_file in demo_files:\n",
        "    \n",
        "    if use_urls:\n",
        "        response = requests.get(img_file)\n",
        "        image = Image.open(BytesIO(response.content))\n",
        "    else:\n",
        "        image_path = os.path.join(image_folder, img_file)\n",
        "        image = Image.open(image_path).convert('RGB')\n",
        "    \n",
        "    transf_list = []\n",
        "    transf_list.append(transforms.Resize(256))\n",
        "    transf_list.append(transforms.CenterCrop(224))\n",
        "    transform = transforms.Compose(transf_list)\n",
        "    \n",
        "    image_transf = transform(image)\n",
        "    image_tensor = to_input_transf(image_transf).unsqueeze(0).to(device)\n",
        "    \n",
        "    plt.imshow(image_transf)\n",
        "    plt.axis('off')\n",
        "    plt.show()\n",
        "    plt.close()\n",
        "    \n",
        "    num_valid = 1\n",
        "    for i in range(numgens):\n",
        "        with torch.no_grad():\n",
        "            outputs = model.sample(image_tensor, greedy=greedy[i], \n",
        "                                   temperature=temperature, beam=beam[i], true_ingrs=None)\n",
        "            \n",
        "\n",
        "        ingr_ids = outputs['ingr_ids'].cpu().numpy()\n",
        "        recipe_ids = outputs['recipe_ids'].cpu().numpy()\n",
        "            \n",
        "        outs, valid = prepare_output(recipe_ids[0], ingr_ids[0], ingrs_vocab, vocab)\n",
        "        all_predicts.append(outs)\n",
        "        \n",
        "        if valid['is_valid'] or show_anyways:\n",
        "            \n",
        "            print ('RECIPE', num_valid)\n",
        "            num_valid+=1\n",
        "            print (\"greedy:\", greedy[i], \"beam:\", beam[i])\n",
        "    \n",
        "            BOLD = '\\033[1m'\n",
        "            END = '\\033[0m'\n",
        "            print (BOLD + '\\nTitle:' + END,outs['title'])\n",
        "\n",
        "            print (BOLD + '\\nIngredients:'+ END)\n",
        "            print (', '.join(outs['ingrs']))\n",
        "\n",
        "            print (BOLD + '\\nInstructions:'+END)\n",
        "            print ('-'+'\\n-'.join(outs['recipe']))\n",
        "\n",
        "            print ('='*20)\n",
        "\n",
        "        else:\n",
        "            pass\n",
        "            print (\"Not a valid recipe!\")\n",
        "            print (\"Reason: \", valid['reason'])\n",
        "        "
      ],
      "execution_count": 63,
      "outputs": [
        {
          "output_type": "display_data",
          "data": {
            "text/plain": [
              "<Figure size 432x288 with 1 Axes>"
            ],
            "image/png": "[encoded data removed]"
          },
          "metadata": {
            "needs_background": "light"
          }
        },
        {
          "output_type": "stream",
          "name": "stderr",
          "text": [
            "/content/drive/MyDrive/inversecooking-master/src/modules/multihead_attention.py:128: UserWarning: masked_fill_ received a mask with dtype torch.uint8, this behavior is now deprecated,please use a mask with dtype torch.bool instead. (Triggered internally at  /pytorch/aten/src/ATen/native/cuda/Indexing.cu:963.)\n",
            "  float('-inf'),\n"
          ]
        },
        {
          "output_type": "stream",
          "name": "stdout",
          "text": [
            "RECIPE 1\n",
            "greedy: True beam: -1\n",
            "\u001b[1m\n",
            "Title:\u001b[0m Roasted butternut squash and sweet potato salad\n",
            "\u001b[1m\n",
            "Ingredients:\u001b[0m\n",
            "onion, pepper, squash, oil, potato, clove\n",
            "\u001b[1m\n",
            "Instructions:\u001b[0m\n",
            "-Heat oven to 425 degrees f.\n",
            "-Toss squash with oil, garlic and pepper; spread onto parchment-covered rimmed baking sheet.\n",
            "-Bake 40 min.\n",
            "-Or until squash is tender, stirring after 20 min.\n",
            "-Cool.\n",
            "-Toss squash with onions and dressing.\n",
            "====================\n",
            "RECIPE 2\n",
            "greedy: False beam: -1\n",
            "\u001b[1m\n",
            "Title:\u001b[0m Sweet potato and yellow squash stew\n",
            "\u001b[1m\n",
            "Ingredients:\u001b[0m\n",
            "onion, pepper, squash, oil, potato, clove\n",
            "\u001b[1m\n",
            "Instructions:\u001b[0m\n",
            "-Heat oil in large saucepan on medium-high heat.\n",
            "-Add potatoes, onions and peppers; cook 8 min.\n",
            "-Or until vegetables are crisp-tender, stirring frequently.\n",
            "-Stir in garlic; cook 30 sec.\n",
            "-Add squash and tomatoes; stir.\n",
            "-Simmer on low 10 min., stirring occasionally.\n",
            "====================\n",
            "RECIPE 3\n",
            "greedy: False beam: -1\n",
            "\u001b[1m\n",
            "Title:\u001b[0m Butternut squash and red pepper saute\n",
            "\u001b[1m\n",
            "Ingredients:\u001b[0m\n",
            "onion, pepper, squash, oil, potato, clove\n",
            "\u001b[1m\n",
            "Instructions:\u001b[0m\n",
            "-Heat oil in large nonstick skillet on medium-high heat.\n",
            "-Add onions and garlic; cook and stir 5 min.\n",
            "-Add squash; cook 5 min.\n",
            "-Or until tender.\n",
            "-Add peppers and red pepper flakes; cook and stir 3 min.\n",
            "-Or until heated through.\n",
            "====================\n",
            "RECIPE 4\n",
            "greedy: False beam: -1\n",
            "\u001b[1m\n",
            "Title:\u001b[0m Roasted butternut squash and sweet potatoes\n",
            "\u001b[1m\n",
            "Ingredients:\u001b[0m\n",
            "onion, pepper, squash, oil, potato, clove\n",
            "\u001b[1m\n",
            "Instructions:\u001b[0m\n",
            "-Heat oven to 400 degrees f.\n",
            "-Combine vegetables and oil in large bowl.\n",
            "-Toss to evenly coat.\n",
            "-Spread onto parchment-covered rimmed baking sheet.\n",
            "-Bake 30 min.\n",
            "-Or until vegetables are tender and golden brown, stirring occasionally.\n",
            "-Stir in garlic; continue baking 2 min.\n",
            "====================\n"
          ]
        }
      ]
    },
    {
      "cell_type": "markdown",
      "metadata": {
        "id": "eWusPSECndnB"
      },
      "source": [
        "Calories\n"
      ]
    },
    {
      "cell_type": "code",
      "metadata": {
        "id": "UowTG6gPO6pi"
      },
      "source": [
        "calorydata = pd.read_csv(\"/content/drive/MyDrive/Food and Calories - Sheet1.csv\")"
      ],
      "execution_count": 64,
      "outputs": []
    },
    {
      "cell_type": "code",
      "metadata": {
        "id": "gpJxX0LryHnP"
      },
      "source": [
        "calorydata = calorydata.rename(columns={'Serving': 'Serving (in gms)'})"
      ],
      "execution_count": 65,
      "outputs": []
    },
    {
      "cell_type": "code",
      "metadata": {
        "id": "8zb7_zoCyIum"
      },
      "source": [
        "for i in range(calorydata.shape[0]):\n",
        "  calorydata[\"Food\"][i]=calorydata[\"Food\"][i].lower()"
      ],
      "execution_count": 66,
      "outputs": []
    },
    {
      "cell_type": "code",
      "metadata": {
        "id": "-9CFu1MFyhDU"
      },
      "source": [
        "for i in range(len(all_predicts[0][\"ingrs\"])):\n",
        "  all_predicts[0][\"ingrs\"][i]=all_predicts[0][\"ingrs\"][i].lower()"
      ],
      "execution_count": 67,
      "outputs": []
    },
    {
      "cell_type": "code",
      "metadata": {
        "colab": {
          "base_uri": "https://localhost:8080/",
          "height": 423
        },
        "id": "BmLXyGgdWLs5",
        "outputId": "bd545d2b-302e-47fb-f726-6eb655e09956"
      },
      "source": [
        "calorydata"
      ],
      "execution_count": 68,
      "outputs": [
        {
          "output_type": "execute_result",
          "data": {
            "text/plain": [
              "                               Food     Serving (in gms) Calories\n",
              "0                         artichoke  1 artichoke (128 g)   60 cal\n",
              "1                           arugula         1 leaf (2 g)    1 cal\n",
              "2                         asparagus       1 spear (12 g)    2 cal\n",
              "3                         aubergine  1 aubergine (458 g)  115 cal\n",
              "4                          beetroot        1 beet (82 g)   35 cal\n",
              "..                              ...                  ...      ...\n",
              "566                  veggie delight     1 burger (129 g)  290 cal\n",
              "567                    veggie patty     1 burger (218 g)  700 cal\n",
              "568               wendy’s baconator     1 burger (291 g)  672 cal\n",
              "569  wendy’s jr. bacon cheeseburger   1 sandwich (202 g)  517 cal\n",
              "570        wendy’s jr. cheeseburger   1 sandwich (202 g)  517 cal\n",
              "\n",
              "[571 rows x 3 columns]"
            ],
            "text/html": [
              "\n",
              "  <div id=\"df-6d7912d7-2125-4e5d-9267-2debb17a922c\">\n",
              "    <div class=\"colab-df-container\">\n",
              "      <div>\n",
              "<style scoped>\n",
              "    .dataframe tbody tr th:only-of-type {\n",
              "        vertical-align: middle;\n",
              "    }\n",
              "\n",
              "    .dataframe tbody tr th {\n",
              "        vertical-align: top;\n",
              "    }\n",
              "\n",
              "    .dataframe thead th {\n",
              "        text-align: right;\n",
              "    }\n",
              "</style>\n",
              "<table border=\"1\" class=\"dataframe\">\n",
              "  <thead>\n",
              "    <tr style=\"text-align: right;\">\n",
              "      <th></th>\n",
              "      <th>Food</th>\n",
              "      <th>Serving (in gms)</th>\n",
              "      <th>Calories</th>\n",
              "    </tr>\n",
              "  </thead>\n",
              "  <tbody>\n",
              "    <tr>\n",
              "      <th>0</th>\n",
              "      <td>artichoke</td>\n",
              "      <td>1 artichoke (128 g)</td>\n",
              "      <td>60 cal</td>\n",
              "    </tr>\n",
              "    <tr>\n",
              "      <th>1</th>\n",
              "      <td>arugula</td>\n",
              "      <td>1 leaf (2 g)</td>\n",
              "      <td>1 cal</td>\n",
              "    </tr>\n",
              "    <tr>\n",
              "      <th>2</th>\n",
              "      <td>asparagus</td>\n",
              "      <td>1 spear (12 g)</td>\n",
              "      <td>2 cal</td>\n",
              "    </tr>\n",
              "    <tr>\n",
              "      <th>3</th>\n",
              "      <td>aubergine</td>\n",
              "      <td>1 aubergine (458 g)</td>\n",
              "      <td>115 cal</td>\n",
              "    </tr>\n",
              "    <tr>\n",
              "      <th>4</th>\n",
              "      <td>beetroot</td>\n",
              "      <td>1 beet (82 g)</td>\n",
              "      <td>35 cal</td>\n",
              "    </tr>\n",
              "    <tr>\n",
              "      <th>...</th>\n",
              "      <td>...</td>\n",
              "      <td>...</td>\n",
              "      <td>...</td>\n",
              "    </tr>\n",
              "    <tr>\n",
              "      <th>566</th>\n",
              "      <td>veggie delight</td>\n",
              "      <td>1 burger (129 g)</td>\n",
              "      <td>290 cal</td>\n",
              "    </tr>\n",
              "    <tr>\n",
              "      <th>567</th>\n",
              "      <td>veggie patty</td>\n",
              "      <td>1 burger (218 g)</td>\n",
              "      <td>700 cal</td>\n",
              "    </tr>\n",
              "    <tr>\n",
              "      <th>568</th>\n",
              "      <td>wendy’s baconator</td>\n",
              "      <td>1 burger (291 g)</td>\n",
              "      <td>672 cal</td>\n",
              "    </tr>\n",
              "    <tr>\n",
              "      <th>569</th>\n",
              "      <td>wendy’s jr. bacon cheeseburger</td>\n",
              "      <td>1 sandwich (202 g)</td>\n",
              "      <td>517 cal</td>\n",
              "    </tr>\n",
              "    <tr>\n",
              "      <th>570</th>\n",
              "      <td>wendy’s jr. cheeseburger</td>\n",
              "      <td>1 sandwich (202 g)</td>\n",
              "      <td>517 cal</td>\n",
              "    </tr>\n",
              "  </tbody>\n",
              "</table>\n",
              "<p>571 rows × 3 columns</p>\n",
              "</div>\n",
              "      <button class=\"colab-df-convert\" onclick=\"convertToInteractive('df-6d7912d7-2125-4e5d-9267-2debb17a922c')\"\n",
              "              title=\"Convert this dataframe to an interactive table.\"\n",
              "              style=\"display:none;\">\n",
              "        \n",
              "  <svg xmlns=\"http://www.w3.org/2000/svg\" height=\"24px\"viewBox=\"0 0 24 24\"\n",
              "       width=\"24px\">\n",
              "    <path d=\"M0 0h24v24H0V0z\" fill=\"none\"/>\n",
              "    <path d=\"M18.56 5.44l.94 2.06.94-2.06 2.06-.94-2.06-.94-.94-2.06-.94 2.06-2.06.94zm-11 1L8.5 8.5l.94-2.06 2.06-.94-2.06-.94L8.5 2.5l-.94 2.06-2.06.94zm10 10l.94 2.06.94-2.06 2.06-.94-2.06-.94-.94-2.06-.94 2.06-2.06.94z\"/><path d=\"M17.41 7.96l-1.37-1.37c-.4-.4-.92-.59-1.43-.59-.52 0-1.04.2-1.43.59L10.3 9.45l-7.72 7.72c-.78.78-.78 2.05 0 2.83L4 21.41c.39.39.9.59 1.41.59.51 0 1.02-.2 1.41-.59l7.78-7.78 2.81-2.81c.8-.78.8-2.07 0-2.86zM5.41 20L4 18.59l7.72-7.72 1.47 1.35L5.41 20z\"/>\n",
              "  </svg>\n",
              "      </button>\n",
              "      \n",
              "  <style>\n",
              "    .colab-df-container {\n",
              "      display:flex;\n",
              "      flex-wrap:wrap;\n",
              "      gap: 12px;\n",
              "    }\n",
              "\n",
              "    .colab-df-convert {\n",
              "      background-color: #E8F0FE;\n",
              "      border: none;\n",
              "      border-radius: 50%;\n",
              "      cursor: pointer;\n",
              "      display: none;\n",
              "      fill: #1967D2;\n",
              "      height: 32px;\n",
              "      padding: 0 0 0 0;\n",
              "      width: 32px;\n",
              "    }\n",
              "\n",
              "    .colab-df-convert:hover {\n",
              "      background-color: #E2EBFA;\n",
              "      box-shadow: 0px 1px 2px rgba(60, 64, 67, 0.3), 0px 1px 3px 1px rgba(60, 64, 67, 0.15);\n",
              "      fill: #174EA6;\n",
              "    }\n",
              "\n",
              "    [theme=dark] .colab-df-convert {\n",
              "      background-color: #3B4455;\n",
              "      fill: #D2E3FC;\n",
              "    }\n",
              "\n",
              "    [theme=dark] .colab-df-convert:hover {\n",
              "      background-color: #434B5C;\n",
              "      box-shadow: 0px 1px 3px 1px rgba(0, 0, 0, 0.15);\n",
              "      filter: drop-shadow(0px 1px 2px rgba(0, 0, 0, 0.3));\n",
              "      fill: #FFFFFF;\n",
              "    }\n",
              "  </style>\n",
              "\n",
              "      <script>\n",
              "        const buttonEl =\n",
              "          document.querySelector('#df-6d7912d7-2125-4e5d-9267-2debb17a922c button.colab-df-convert');\n",
              "        buttonEl.style.display =\n",
              "          google.colab.kernel.accessAllowed ? 'block' : 'none';\n",
              "\n",
              "        async function convertToInteractive(key) {\n",
              "          const element = document.querySelector('#df-6d7912d7-2125-4e5d-9267-2debb17a922c');\n",
              "          const dataTable =\n",
              "            await google.colab.kernel.invokeFunction('convertToInteractive',\n",
              "                                                     [key], {});\n",
              "          if (!dataTable) return;\n",
              "\n",
              "          const docLinkHtml = 'Like what you see? Visit the ' +\n",
              "            '<a target=\"_blank\" href=https://colab.research.google.com/notebooks/data_table.ipynb>data table notebook</a>'\n",
              "            + ' to learn more about interactive tables.';\n",
              "          element.innerHTML = '';\n",
              "          dataTable['output_type'] = 'display_data';\n",
              "          await google.colab.output.renderOutput(dataTable, element);\n",
              "          const docLink = document.createElement('div');\n",
              "          docLink.innerHTML = docLinkHtml;\n",
              "          element.appendChild(docLink);\n",
              "        }\n",
              "      </script>\n",
              "    </div>\n",
              "  </div>\n",
              "  "
            ]
          },
          "metadata": {},
          "execution_count": 68
        }
      ]
    },
    {
      "cell_type": "code",
      "metadata": {
        "id": "7YVwUWMZPbtN"
      },
      "source": [
        "for i in range(calorydata.shape[0]):\n",
        "  calorydata[\"Serving (in gms)\"][i] = calorydata[\"Serving (in gms)\"][i].replace(\"(\",\"\")\n",
        "  calorydata[\"Serving (in gms)\"][i] = calorydata[\"Serving (in gms)\"][i].replace(\")\",\"\")\n",
        "  numeric_val = [int(s) for s in calorydata[\"Serving (in gms)\"][i].split() if s.isdigit()]\n",
        "\n",
        "  calory_numeric_val = [int(s) for s in calorydata[\"Calories\"][i].split() if s.isdigit()]\n",
        "\n",
        "  if (len(numeric_val)==2):\n",
        "    calorydata[\"Serving (in gms)\"][i] = int(numeric_val[1])\n",
        "    calorydata[\"Calories\"][i] = (calory_numeric_val[0]/(numeric_val[1]))\n",
        "    \n",
        "  else:\n",
        "    calorydata[\"Serving (in gms)\"][i] = 0\n",
        "    calorydata[\"Calories\"][i] = 0"
      ],
      "execution_count": 69,
      "outputs": []
    },
    {
      "cell_type": "code",
      "metadata": {
        "colab": {
          "base_uri": "https://localhost:8080/"
        },
        "id": "JIoOmh4Lu4VY",
        "outputId": "d0baeacd-5db5-4d24-f5e8-9877ef337035"
      },
      "source": [
        "calorydata[243:244].values[0]"
      ],
      "execution_count": 70,
      "outputs": [
        {
          "output_type": "execute_result",
          "data": {
            "text/plain": [
              "array(['wheat bran', 167, 3.5988023952095807], dtype=object)"
            ]
          },
          "metadata": {},
          "execution_count": 70
        }
      ]
    },
    {
      "cell_type": "code",
      "metadata": {
        "id": "-WqZfgJwhHek"
      },
      "source": [
        "calorydata=calorydata.drop(['Serving (in gms)'], axis=1)\n",
        "calorydata = calorydata.rename(columns={'Calories': 'Calories (per gm)'})"
      ],
      "execution_count": 71,
      "outputs": []
    },
    {
      "cell_type": "code",
      "metadata": {
        "colab": {
          "base_uri": "https://localhost:8080/"
        },
        "id": "GOy3ErIjzeq8",
        "outputId": "9a962b77-81aa-4337-c36f-3f99dc954318"
      },
      "source": [
        "calory_output = {}\n",
        "for i in range(len(outs[\"ingrs\"])):\n",
        "  if all_predicts[0][\"ingrs\"][i] in calorydata[\"Food\"].tolist():\n",
        "    calory_output[all_predicts[0][\"ingrs\"][i]] = calorydata[\"Calories (per gm)\"][calorydata[\"Food\"].tolist().index(all_predicts[0][\"ingrs\"][i]):calorydata[\"Food\"].tolist().index(all_predicts[0][\"ingrs\"][i])+1].values[0]\n",
        "    # print(all_predicts[0][\"ingrs\"][i],calorydata[\"Food\"].tolist().index(all_predicts[0][\"ingrs\"][i]))\n",
        "\n",
        "\n",
        "    # calorydata[\"Food\"].tolist().index(all_predicts[0][\"ingrs\"][i])\n",
        "\n",
        "calory_output"
      ],
      "execution_count": 72,
      "outputs": [
        {
          "output_type": "execute_result",
          "data": {
            "text/plain": [
              "{'clove': 4.0,\n",
              " 'oil': 9.0,\n",
              " 'onion': 0.4,\n",
              " 'pepper': 0.26666666666666666,\n",
              " 'potato': 0.7699530516431925,\n",
              " 'squash': 0.4489795918367347}"
            ]
          },
          "metadata": {},
          "execution_count": 72
        }
      ]
    },
    {
      "cell_type": "code",
      "metadata": {
        "id": "jCNYOsFdsasx",
        "colab": {
          "base_uri": "https://localhost:8080/"
        },
        "outputId": "04b32df3-7edf-4c01-ee83-d1f9ed848c6b"
      },
      "source": [
        "calory_output"
      ],
      "execution_count": 73,
      "outputs": [
        {
          "output_type": "execute_result",
          "data": {
            "text/plain": [
              "{'clove': 4.0,\n",
              " 'oil': 9.0,\n",
              " 'onion': 0.4,\n",
              " 'pepper': 0.26666666666666666,\n",
              " 'potato': 0.7699530516431925,\n",
              " 'squash': 0.4489795918367347}"
            ]
          },
          "metadata": {},
          "execution_count": 73
        }
      ]
    },
    {
      "cell_type": "code",
      "metadata": {
        "colab": {
          "base_uri": "https://localhost:8080/"
        },
        "id": "q2Y9dW8eujR_",
        "outputId": "e3339f73-8fc1-4858-8d89-359ccc166802"
      },
      "source": [
        "BOLD = '\\033[1m'\n",
        "END = '\\033[0m'\n",
        "\n",
        "for i in calory_output:\n",
        "  print(BOLD+\"{item} -\".format(item = i.capitalize())+END,str(round(calory_output[i], 2))+\"cals\")\n",
        "\n",
        "print(BOLD+\"Total Calories in 1gm of {title} is\".format(title=all_predicts[0][\"title\"]),round(sum(calory_output.values()),2))\n"
      ],
      "execution_count": 74,
      "outputs": [
        {
          "output_type": "stream",
          "name": "stdout",
          "text": [
            "\u001b[1mOnion -\u001b[0m 0.4cals\n",
            "\u001b[1mPepper -\u001b[0m 0.27cals\n",
            "\u001b[1mSquash -\u001b[0m 0.45cals\n",
            "\u001b[1mOil -\u001b[0m 9.0cals\n",
            "\u001b[1mPotato -\u001b[0m 0.77cals\n",
            "\u001b[1mClove -\u001b[0m 4.0cals\n",
            "\u001b[1mTotal Calories in 1gm of Roasted butternut squash and sweet potato salad is 14.89\n"
          ]
        }
      ]
    }
  ]
}